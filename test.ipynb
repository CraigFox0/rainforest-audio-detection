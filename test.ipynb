{
 "cells": [
  {
   "cell_type": "markdown",
   "id": "0a0641d7",
   "metadata": {},
   "source": [
    "This is a test of of the rich support"
   ]
  },
  {
   "cell_type": "code",
   "execution_count": 1,
   "id": "4767525e",
   "metadata": {},
   "outputs": [],
   "source": [
    "import matplotlib"
   ]
  },
  {
   "cell_type": "code",
   "execution_count": null,
   "id": "cca80bc0",
   "metadata": {},
   "outputs": [],
   "source": [
    "matplotlib.colors\n",
    "dsfsdafdsdfsdf\n",
    "fdsfsdafsad"
   ]
  }
 ],
 "metadata": {
  "kernelspec": {
   "display_name": "Python 3 (ipykernel)",
   "language": "python",
   "name": "python3"
  },
  "language_info": {
   "codemirror_mode": {
    "name": "ipython",
    "version": 3
   },
   "file_extension": ".py",
   "mimetype": "text/x-python",
   "name": "python",
   "nbconvert_exporter": "python",
   "pygments_lexer": "ipython3",
   "version": "3.9.7"
  }
 },
 "nbformat": 4,
 "nbformat_minor": 5
}
