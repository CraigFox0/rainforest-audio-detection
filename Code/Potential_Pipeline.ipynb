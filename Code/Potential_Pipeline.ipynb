{
 "cells": [
  {
   "cell_type": "code",
   "execution_count": 3,
   "id": "290485b1",
   "metadata": {},
   "outputs": [],
   "source": [
    "from nvidia.dali import pipeline_def\n",
    "import nvidia.dali.fn as fn\n",
    "import nvidia.dali.types as types\n",
    "import nvidia.dali as dali\n",
    "import librosa as librosa\n",
    "import numpy as np\n",
    "import os"
   ]
  },
  {
   "cell_type": "code",
   "execution_count": 4,
   "id": "c3d83f11",
   "metadata": {},
   "outputs": [
    {
     "data": {
      "text/plain": [
       "'/home/tuj57093'"
      ]
     },
     "execution_count": 4,
     "metadata": {},
     "output_type": "execute_result"
    }
   ],
   "source": [
    "audio_files = \"./rainforest-audio-detection/train/\""
   ]
  },
  {
   "cell_type": "code",
   "execution_count": 5,
   "id": "a3e4fc81",
   "metadata": {},
   "outputs": [],
   "source": [
    "@pipeline_def\n",
    "def audo_decoder_pipe():\n",
    "    encoded, _ = fn.readers.file(file_root=audio_files)\n",
    "    audio, sr = fn.decoders.audio(encoded, dtype=types.INT16)\n",
    "    return audio, sr"
   ]
  },
  {
   "cell_type": "code",
   "execution_count": null,
   "id": "c521f6a6",
   "metadata": {},
   "outputs": [],
   "source": [
    "audio"
   ]
  }
 ],
 "metadata": {
  "kernelspec": {
   "display_name": "Python 3 (ipykernel)",
   "language": "python",
   "name": "python3"
  },
  "language_info": {
   "codemirror_mode": {
    "name": "ipython",
    "version": 3
   },
   "file_extension": ".py",
   "mimetype": "text/x-python",
   "name": "python",
   "nbconvert_exporter": "python",
   "pygments_lexer": "ipython3",
   "version": "3.8.12"
  }
 },
 "nbformat": 4,
 "nbformat_minor": 5
}
