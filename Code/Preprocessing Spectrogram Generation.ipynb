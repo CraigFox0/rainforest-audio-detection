{
 "cells": [
  {
   "cell_type": "markdown",
   "metadata": {},
   "source": [
    "# Preprocessing and Spectrogram Generation "
   ]
  },
  {
   "cell_type": "code",
   "execution_count": 1,
   "metadata": {},
   "outputs": [],
   "source": [
    "import pandas as pd\n",
    "import numpy as np\n",
    "import librosa\n",
    "import librosa.display\n",
    "import matplotlib.pyplot as plt\n",
    "from skimage.transform import resize\n",
    "\n",
    "# All the audio files have a sample rate of 48000\n",
    "sr = 48000\n",
    "\n",
    "# All the audio clips are under 8 seconds\n",
    "length = 8*sr\n",
    "\n",
    "# ResNet50 input layer is 224 x 224 x 3, so I'm resizing the image to fit the first input dimension. \n",
    "dimensions = (224,224)\n",
    "\n",
    "data_path = '../Data/'\n",
    "\n",
    "#Determines the number of images to generate\n",
    "num_of_images = 20"
   ]
  },
  {
   "cell_type": "code",
   "execution_count": 2,
   "metadata": {},
   "outputs": [],
   "source": [
    "def generate_image(data,image_title,path):\n",
    "    fig, ax = plt.subplots()\n",
    "    img = librosa.display.specshow(data, x_axis='time', y_axis='mel', sr=sr, ax=ax)\n",
    "    fig.colorbar(img, ax=ax, format='%+2.0f dB')\n",
    "    ax.set(title=image_title)\n",
    "    fig.savefig(path)\n",
    "    plt.close(fig)"
   ]
  },
  {
   "cell_type": "code",
   "execution_count": 3,
   "metadata": {},
   "outputs": [],
   "source": [
    "#Currently using a melspectrogram, Chromagram SFTF, and SFTF\n",
    "#Possible other ideas: Chirplet\n",
    "def generate_spectrograms(df,file_name):\n",
    "    df['mspec_db'] = np.nan\n",
    "    df['mspec_db'] = df['mspec_db'].astype(object)\n",
    "    df['chroma_db'] = np.nan\n",
    "    df['chroma_db'] = df['chroma_db'].astype(object)\n",
    "    df['stft_db'] = np.nan\n",
    "    df['stft_db'] = df['stft_db'].astype(object)\n",
    "\n",
    "    for idx,row in df.iterrows():\n",
    "        wav, sr = librosa.load(data_path + 'train/' + row['recording_id'] + '.flac', sr=None)\n",
    "    \n",
    "        # Slicing and centering spectograms \n",
    "        m = (int)((row['t_min'] + row['t_max'])*sr/2)\n",
    "    \n",
    "        l = (int)(m-(length/2))\n",
    "        r = (int)(m+(length/2))\n",
    "    \n",
    "        #Assumes audio files are at least as long as length\n",
    "        if l < 0:\n",
    "            r += l\n",
    "            l = 0\n",
    "        elif r > len(wav):\n",
    "            l -= r-len(wav)\n",
    "            r = len(wav)\n",
    "        \n",
    "        #Melspectrogram\n",
    "        mspec = librosa.feature.melspectrogram(y=wav[l:r], sr=sr, power=2.0)\n",
    "        \n",
    "        #Make Noisy Version\n",
    "        mspec_noise = mspec.copy()\n",
    "        noise_amp = 0.005*np.random.uniform()*np.amax(mspec_noise)\n",
    "        mspec_noise = mspec_noise.astype('float64') + noise_amp * np.random.normal(size=mspec_noise.shape)\n",
    "        \n",
    "        mspec_noise_db = librosa.power_to_db(mspec_noise, ref=np.max)\n",
    "        \n",
    "        if idx < 10:\n",
    "            mspec_db = librosa.power_to_db(mspec, ref=np.max)\n",
    "            generate_image(mspec_db,'Mel-frequency Spectrogram',data_path+'Melspectrograms/'+file_name+'/'+str(idx)+'.png')\n",
    "            generate_image(mspec_db,'Mel-frequency with Noise Spectrogram',data_path+'Melspectrograms_Noise/'+file_name+'/'+str(idx)+'.png')\n",
    "        \n",
    "        #mspec = (mspec - np.min(mspec))/np.max(mspec) normalizing but already on log scale\n",
    "        mspec_noise_db = resize(mspec_noise_db, dimensions)\n",
    "        df.at[idx, 'mspec_db'] = mspec_noise_db\n",
    "        \n",
    "        #Chroma\n",
    "        chroma = librosa.feature.chroma_stft(y=wav[l:r], sr=sr)\n",
    "                \n",
    "        #Make Noisy Version\n",
    "        chroma_noise = chroma.copy()\n",
    "        noise_amp = 0.005*np.random.uniform()*np.amax(chroma_noise)\n",
    "        chroma_noise = chroma_noise.astype('float64') + noise_amp * np.random.normal(size=chroma_noise.shape)\n",
    "        \n",
    "        chroma_noise_db = librosa.power_to_db(chroma_noise, ref=np.max)\n",
    "        \n",
    "        if idx < 10:\n",
    "            chroma_db = librosa.power_to_db(chroma, ref=np.max)\n",
    "            generate_image(chroma_db,'Chromagram',data_path+'Chromagram/'+file_name+'/'+str(idx)+'.png')\n",
    "            generate_image(chroma_noise_db,'Chromagram with Noise',data_path+'Chromagram_Noise/'+file_name+'/'+str(idx)+'.png')\n",
    "        \n",
    "        #chroma = (chroma - np.min(chroma))/np.max(chroma)\n",
    "        chroma_noise_db = resize(chroma_noise_db, dimensions)\n",
    "        df.at[idx, 'chroma_db'] = chroma_noise_db\n",
    "        \n",
    "        #Short-time Fourier Transform\n",
    "        stft = np.abs(librosa.stft(y=wav[l:r]))\n",
    "        \n",
    "        #Make Noisy Versions\n",
    "        stft_noise = stft.copy()\n",
    "        noise_amp = 0.005*np.random.uniform()*np.amax(stft_noise)\n",
    "        stft_noise = stft_noise.astype('float64') + noise_amp * np.random.normal(size=stft_noise.shape)\n",
    "        \n",
    "        stft_noise_db = librosa.amplitude_to_db(stft_noise, ref=np.max)\n",
    "        \n",
    "        if idx < 10:\n",
    "            stft_db = librosa.power_to_db(stft, ref=np.max)\n",
    "            generate_image(stft_db,'Power Spectrogram',data_path+'stft/'+file_name+'/'+str(idx)+'.png')\n",
    "            generate_image(stft_noise_db,'Power with Noise Spectrogram',data_path+'stft_Noise/'+file_name+'/'+str(idx)+'.png')\n",
    "        \n",
    "        #stft_db = (stft_db - np.min(stft_db))/np.max(stft_db)\n",
    "        stft_noise_db = resize(stft_noise_db, dimensions)\n",
    "        df.at[idx, 'stft_db'] = stft_noise_db\n",
    "        \n",
    "    df.to_csv(data_path+'csv/'+file_name+'_data.csv')"
   ]
  },
  {
   "cell_type": "code",
   "execution_count": 4,
   "metadata": {},
   "outputs": [],
   "source": [
    "train_tp_df = pd.read_csv(data_path + 'train_tp.csv')\n",
    "generate_spectrograms(train_tp_df,'train_tp')"
   ]
  },
  {
   "cell_type": "code",
   "execution_count": null,
   "metadata": {},
   "outputs": [],
   "source": [
    "train_fp_df = pd.read_csv(data_path + 'train_fp.csv')\n",
    "generate_spectrograms(train_fp_df,'train_fp')"
   ]
  }
 ],
 "metadata": {
  "kernelspec": {
   "display_name": "Python 3",
   "language": "python",
   "name": "python3"
  },
  "language_info": {
   "codemirror_mode": {
    "name": "ipython",
    "version": 3
   },
   "file_extension": ".py",
   "mimetype": "text/x-python",
   "name": "python",
   "nbconvert_exporter": "python",
   "pygments_lexer": "ipython3",
   "version": "3.8.5"
  }
 },
 "nbformat": 4,
 "nbformat_minor": 5
}
