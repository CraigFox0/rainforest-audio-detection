{
 "cells": [
  {
   "cell_type": "markdown",
   "metadata": {},
   "source": [
    "# Preprocessing and Spectrogram Generation "
   ]
  },
  {
   "cell_type": "code",
   "execution_count": null,
   "metadata": {},
   "outputs": [],
   "source": [
    "import pandas as pd\n",
    "import numpy as np\n",
    "import librosa\n",
    "import librosa.display\n",
    "import matplotlib.pyplot as plt\n",
    "from skimage.transform import resize\n",
    "\n",
    "# All the audio files have a sample rate of 48000\n",
    "sr = 48000\n",
    "# All the audio clips are under 10 seconds\n",
    "length = 10*sr\n",
    "\n",
    "# ResNet50 input layer is 224 x 224 x 3, so I'm resizing the image to fit the first input dimension. \n",
    "mel_spec_dimensions = (224,224)\n",
    "\n",
    "data_path = '../Data/'\n",
    "df = pd.read_csv(data_path + 'train_tp.csv')"
   ]
  },
  {
   "cell_type": "code",
   "execution_count": null,
   "metadata": {},
   "outputs": [],
   "source": [
    "df['spec'] = np.nan\n",
    "df['spec'] = df['spec'].astype(object)\n",
    "\n",
    "for idx,row in df.iterrows():\n",
    "    wav, sr = librosa.load(data_path + 'train/' + row['recording_id'] + '.flac', sr=None)\n",
    "    \n",
    "    # Slicing and centering spectograms \n",
    "    m = (int)((row['t_min'] + row['t_max'])*sr/2)\n",
    "    \n",
    "    l = (int)(m-(length/2))\n",
    "    r = (int)(m+(length/2))\n",
    "    \n",
    "    #Assumes audio files are at least as long as length\n",
    "    if l < 0:\n",
    "        r += l\n",
    "        l = 0\n",
    "    elif r > len(wav):\n",
    "        l -= r-len(wav)\n",
    "        r = len(wav)\n",
    "    mspec = librosa.feature.melspectrogram(y=wav[l:r], sr=sr, power=2.0)\n",
    "    mspec = resize(mspec, mel_spec_dimensions)\n",
    "    mspec = (mspec - np.min(mspec))/np.max(mspec)\n",
    "    \n",
    "    fig, ax = plt.subplots()\n",
    "    mspec_db = librosa.power_to_db(mspec, ref=np.max)\n",
    "    img = librosa.display.specshow(mspec_db, x_axis='time', y_axis='mel', sr=sr, ax=ax)\n",
    "    fig.colorbar(img, ax=ax, format='%+2.0f dB')\n",
    "    ax.set(title='Mel-frequency spectrogram')\n",
    "    plt.show() #replace with save\n",
    "    \n",
    "    #Should we save power or db? Probably db?\n",
    "    df.at[idx, 'spec'] = mspec\n",
    "df.to_csv(data_path+'train_spectograms.csv')\n",
    "df.head()"
   ]
  },
  {
   "cell_type": "code",
   "execution_count": null,
   "metadata": {},
   "outputs": [],
   "source": []
  }
 ],
 "metadata": {
  "kernelspec": {
   "display_name": "Python 3",
   "language": "python",
   "name": "python3"
  },
  "language_info": {
   "codemirror_mode": {
    "name": "ipython",
    "version": 3
   },
   "file_extension": ".py",
   "mimetype": "text/x-python",
   "name": "python",
   "nbconvert_exporter": "python",
   "pygments_lexer": "ipython3",
   "version": "3.8.5"
  }
 },
 "nbformat": 4,
 "nbformat_minor": 5
}
