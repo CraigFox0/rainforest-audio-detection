{
 "cells": [
  {
   "cell_type": "markdown",
   "id": "01cc0ab5",
   "metadata": {},
   "source": [
    "# Preprocessing and Spectrogram Generation "
   ]
  },
  {
   "cell_type": "code",
   "execution_count": 1,
   "id": "7e741c9c",
   "metadata": {},
   "outputs": [],
   "source": [
    "import pandas as pd\n",
    "import numpy as np\n",
    "import librosa\n",
    "import librosa.display\n",
    "import matplotlib.pyplot as plt\n",
    "from skimage.transform import resize\n",
    "\n",
    "# All the audio files have a sample rate of 48000\n",
    "sr = 48000\n",
    "# All the audio clips are under 10 seconds\n",
    "length = 10*sr\n",
    "\n",
    "# ResNet50 input layer is 224 x 224 x 3, so I'm resizing the image to fit the first input dimension. \n",
    "dimensions = (224,224)\n",
    "\n",
    "data_path = '../Data/'"
   ]
  },
  {
   "cell_type": "code",
   "execution_count": 3,
   "id": "1d0a488f",
   "metadata": {},
   "outputs": [],
   "source": [
    "#Currently using a melspectrogram, Chromagram SFTF, and SFTF\n",
    "#Possible other ideas: Chirplet\n",
    "def generate_spectrograms(df,file_name):\n",
    "    df['mspec_db'] = np.nan\n",
    "    df['mspec_db'] = df['mspec_db'].astype(object)\n",
    "    df['chroma_db'] = np.nan\n",
    "    df['chroma_db'] = df['chroma_db'].astype(object)\n",
    "    df['stft_db'] = np.nan\n",
    "    df['stft_db'] = df['stft_db'].astype(object)\n",
    "\n",
    "    for idx,row in df.iterrows():\n",
    "        wav, sr = librosa.load(data_path + 'train/' + row['recording_id'] + '.flac', sr=None)\n",
    "    \n",
    "        # Slicing and centering spectograms \n",
    "        m = (int)((row['t_min'] + row['t_max'])*sr/2)\n",
    "    \n",
    "        l = (int)(m-(length/2))\n",
    "        r = (int)(m+(length/2))\n",
    "    \n",
    "        #Assumes audio files are at least as long as length\n",
    "        if l < 0:\n",
    "            r += l\n",
    "            l = 0\n",
    "        elif r > len(wav):\n",
    "            l -= r-len(wav)\n",
    "            r = len(wav)\n",
    "        \n",
    "        #Melspectrogram\n",
    "        mspec = librosa.feature.melspectrogram(y=wav[l:r], sr=sr, power=2.0)\n",
    "        mspec_db = librosa.power_to_db(mspec, ref=np.max)\n",
    "        \n",
    "#         fig, ax = plt.subplots()\n",
    "#         img = librosa.display.specshow(mspec_db, x_axis='time', y_axis='mel', sr=sr, ax=ax)\n",
    "#         fig.colorbar(img, ax=ax, format='%+2.0f dB')\n",
    "#         ax.set(title='Mel-frequency spectrogram')\n",
    "#         fig.savefig(data_path+'Melspectrograms/'+file_name+'/'+str(idx)+'.png')\n",
    "        \n",
    "        #mspec = (mspec - np.min(mspec))/np.max(mspec) normalizing but already on log scale\n",
    "        mspec_db = resize(mspec_db, dimensions)\n",
    "        df.at[idx, 'mspec_db'] = mspec_db\n",
    "        \n",
    "        #Chroma\n",
    "        chroma = librosa.feature.chroma_stft(y=wav[l:r], sr=sr)\n",
    "        chroma_db = librosa.amplitude_to_db(chroma, ref=np.max)\n",
    "        \n",
    "#         fig, ax = plt.subplots()\n",
    "#         img = librosa.display.specshow(chroma_db, x_axis='time', y_axis='mel', sr=sr, ax=ax)\n",
    "#         fig.colorbar(img, ax=ax, format='%+2.0f dB')\n",
    "#         ax.set(title='Chromagram')\n",
    "#         fig.savefig(data_path+'Chromagram/'+file_name+'/'+str(idx)+'.png')\n",
    "        \n",
    "        #chroma = (chroma - np.min(chroma))/np.max(chroma)\n",
    "        chroma_db = resize(chroma_db, dimensions)\n",
    "        df.at[idx, 'chroma_db'] = chroma_db\n",
    "        \n",
    "        #Short-time Fourier Transform\n",
    "        stft = np.abs(librosa.stft(y=wav[l:r]))\n",
    "        stft_db = librosa.amplitude_to_db(stft, ref=np.max)\n",
    "        \n",
    "#         fig, ax = plt.subplots()\n",
    "#         img = librosa.display.specshow(stft_db, x_axis='time', y_axis='log', ax=ax)\n",
    "#         fig.colorbar(img, ax=ax, format='%+2.0f dB')\n",
    "#         ax.set(title='Power spectrogram')\n",
    "#         fig.savefig(data_path+'stft/'+file_name+'/'+str(idx)+'.png')\n",
    "        \n",
    "        #stft_db = (stft_db - np.min(stft_db))/np.max(stft_db)\n",
    "        stft_db = resize(stft_db, dimensions)\n",
    "        df.at[idx, 'stft_db'] = stft_db\n",
    "        \n",
    "    df.to_csv(data_path+'csv/'+file_name+'_data.csv')"
   ]
  },
  {
   "cell_type": "code",
   "execution_count": null,
   "id": "69694c4f",
   "metadata": {},
   "outputs": [],
   "source": [
    "train_tp_df = pd.read_csv(data_path + 'train_tp.csv')\n",
    "generate_spectrograms(train_tp_df,'train_tp')\n",
    "train_fp_df = pd.read_csv(data_path + 'train_fp.csv')\n",
    "generate_spectrograms(train_fp_df,'train_fp')"
   ]
  },
  {
   "cell_type": "code",
   "execution_count": null,
   "id": "cb80f870",
   "metadata": {},
   "outputs": [],
   "source": []
  }
 ],
 "metadata": {
  "kernelspec": {
   "display_name": "Python 3 (ipykernel)",
   "language": "python",
   "name": "python3"
  },
  "language_info": {
   "codemirror_mode": {
    "name": "ipython",
    "version": 3
   },
   "file_extension": ".py",
   "mimetype": "text/x-python",
   "name": "python",
   "nbconvert_exporter": "python",
   "pygments_lexer": "ipython3",
   "version": "3.8.12"
  }
 },
 "nbformat": 4,
 "nbformat_minor": 5
}
